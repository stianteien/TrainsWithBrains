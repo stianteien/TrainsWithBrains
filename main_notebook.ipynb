{
  "cells": [
    {
      "cell_type": "markdown",
      "id": "991c10d6",
      "metadata": {
        "id": "991c10d6"
      },
      "source": [
        "# Main notebook\n",
        "\n",
        "Install all requirements and connect to drive"
      ]
    },
    {
      "cell_type": "code",
      "execution_count": 1,
      "id": "7229c53a",
      "metadata": {
        "id": "7229c53a",
        "outputId": "fb05ac81-dede-47d9-fcbe-7fc8a8e3e54c",
        "colab": {
          "base_uri": "https://localhost:8080/"
        }
      },
      "outputs": [
        {
          "output_type": "stream",
          "name": "stdout",
          "text": [
            "Requirement already satisfied: pygame in /usr/local/lib/python3.7/dist-packages (2.1.2)\n",
            "Drive already mounted at /content/gdrive; to attempt to forcibly remount, call drive.mount(\"/content/gdrive\", force_remount=True).\n",
            "/content/gdrive/MyDrive/TrainsWithBrains\n"
          ]
        }
      ],
      "source": [
        "!pip install pygame\n",
        "from google.colab import drive\n",
        "drive.mount('/content/gdrive')\n",
        "%cd gdrive/MyDrive/TrainsWithBrains"
      ]
    },
    {
      "cell_type": "markdown",
      "id": "2c9b1733",
      "metadata": {
        "id": "2c9b1733"
      },
      "source": [
        "### Set up the evn"
      ]
    },
    {
      "cell_type": "code",
      "execution_count": 2,
      "id": "f17c6b1d",
      "metadata": {
        "id": "f17c6b1d",
        "outputId": "07b62d6d-3706-4bae-ee43-443b6149a738",
        "colab": {
          "base_uri": "https://localhost:8080/"
        }
      },
      "outputs": [
        {
          "output_type": "stream",
          "name": "stdout",
          "text": [
            "pygame 2.1.2 (SDL 2.0.16, Python 3.7.12)\n",
            "Hello from the pygame community. https://www.pygame.org/contribute.html\n"
          ]
        }
      ],
      "source": [
        "from train import Train\n",
        "from railway import Railway\n",
        "from subwaysystem import SubwaySystem\n",
        "import pandas as pd\n",
        "import numpy as np\n",
        "import random\n",
        "from ddqp import DDQNAgent\n",
        "import tensorflow as tf\n",
        "from scipy.spatial.distance import pdist, squareform\n",
        "import matplotlib.pyplot as plt\n",
        "\n",
        "linje1coords = pd.read_csv(\"lines/linje1.csv\", index_col=0)\n",
        "linje2coords = pd.read_csv(\"lines/linje2.csv\", index_col=0)\n",
        "linje4coords = pd.read_csv(\"lines/linje4.csv\", index_col=0)\n",
        "linje5coords = pd.read_csv(\"lines/linje5.csv\", index_col=0)\n",
        "linje6coords = pd.read_csv(\"lines/linje6.csv\", index_col=0)\n",
        "\n",
        "linje2stops = pd.concat([linje2coords[linje2coords.index==4] ,linje2coords.sample()])\n",
        "linje2stops[[\"stop_time\", \"active\"]] = [[500,False],[300, False]]\n",
        "\n",
        "linje4stops = pd.concat([linje4coords.sample()])\n",
        "linje4stops[[\"stop_time\", \"active\"]] = [[500,False]]\n",
        "\n",
        "\n",
        "subwaysystem = SubwaySystem()\n",
        "\n",
        "# Add all lines\n",
        "linje1 = Railway(linje1coords)\n",
        "linje2 = Railway(linje2coords, linje2stops)\n",
        "linje4 = Railway(linje4coords, linje4stops, train_loop_strategy=\"line\")\n",
        "linje5 = Railway(linje5coords, train_loop_strategy=\"line\")\n",
        "linje6 = Railway(linje6coords, train_loop_strategy=\"line\")\n",
        "\n",
        "# Add all trains\n",
        "linje1.add_train(Train())\n",
        "linje2.add_train(Train(direction = 1, max_speed = 150))\n",
        "linje2.add_train(Train(direction = -1))\n",
        "linje4.add_train(Train())\n",
        "linje5.add_train(Train())\n",
        "linje6.add_train(Train())\n",
        "\n",
        "\n",
        "# Add lines inn system\n",
        "#subwaysystem.add_railway(linje1)\n",
        "#subwaysystem.add_railway(linje2)\n",
        "#subwaysystem.add_railway(linje4)\n",
        "subwaysystem.add_railway(linje5)\n",
        "subwaysystem.add_railway(linje6)\n"
      ]
    },
    {
      "cell_type": "markdown",
      "id": "680612d8",
      "metadata": {
        "id": "680612d8"
      },
      "source": [
        "### Reinformant learning"
      ]
    },
    {
      "cell_type": "code",
      "execution_count": 39,
      "id": "6ddc7a44",
      "metadata": {
        "id": "6ddc7a44",
        "outputId": "db08f3c6-28f5-45fb-e588-242e882a8ba0",
        "colab": {
          "base_uri": "https://localhost:8080/"
        }
      },
      "outputs": [
        {
          "output_type": "stream",
          "name": "stdout",
          "text": [
            "100 [5.861869347642689, 4.789375257749918]\n",
            "200 [3.4398742020391295, 0]\n",
            "300 [9.01708551760023, 5.117006257131735]\n",
            "400 [8.614869871409017, 0.02167406809543293]\n",
            "500 [14.95533490336639, 5.64060896946739]\n",
            "600 [11.53046600058577, 0]\n",
            "700 [17.279322300630334, 5.293504624683479]\n",
            "800 [17.6238349816977, 0.28844398993758136]\n",
            "900 [23.306719701595597, 5.796906162590968]\n",
            "1000 [26.319991108806683, 2.1524497725769045]\n",
            "1100 [32.316407825982395, 7.589071885297557]\n",
            "1200 [34.4762250592728, 6.834620923564894]\n",
            "1300 [22.583413561669367, 7.554655127131702]\n",
            "1400 [20.307208582439323, 0.9914314754867151]\n",
            "1500 [26.25568411648713, 6.056958282446673]\n",
            "1600 [24.08683940632056, 2.411973633783511]\n",
            "1700 [29.58811035773878, 8.211460569859007]\n",
            "1800 [33.54827814701365, 7.169853807811412]\n",
            "1900 [39.13766837888639, 13.170672318754178]\n",
            "2000 [39.66115772257627, 12.779102554648412]\n",
            "2100 [28.153161389956196, 3.3215617638013275]\n",
            "2200 [34.18580416125376, 9.655524765275537]\n",
            "2300 [32.365789346191555, 5.745262796747622]\n",
            "2400 [38.20394954948108, 11.735675119072903]\n",
            "2500 [29.665154434152516, 3.347455810223266]\n",
            "2600 [31.60682388392418, 6.957378864188367]\n",
            "2700 [30.04244120107404, 11.11418471876637]\n",
            "2800 [36.155977766076695, 11.115177293651668]\n",
            "2900 [31.275990936677662, 0]\n",
            "3000 [37.30955195948883, 4.355254549837819]\n",
            "3100 [34.79050916459405, 0]\n",
            "3200 [41.18355350197899, 5.004367107400663]\n",
            "Kræsj\n"
          ]
        }
      ],
      "source": [
        "#subwaysystem.find_intersections()\n",
        "#subwaysystem.render()\n",
        "#subwaysystem.run_simualation()\n",
        "#subwaysystem.reset()\n",
        "\n",
        "\n",
        "# ========\n",
        "# Reinformant learning!\n",
        "# ========\n",
        "\n",
        "#agent = DDQNAgent(alpha=0.005, gamma=0.99, n_actions=2, max_speed=100,\n",
        "#                  epsilon=1.0, batch_size=32, input_dims=8)\n",
        "r_history = []\n",
        "\n",
        "n_games = 1\n",
        "done = False\n",
        "max_interations = 5000\n",
        "\n",
        "\n",
        "for i in range(n_games):\n",
        "    score = 0\n",
        "    o = 0\n",
        "    state, done = subwaysystem.reset()\n",
        "    \n",
        "    actions = []\n",
        "    states = []\n",
        "    states_ = []\n",
        "    rewards = []\n",
        "    dones = []\n",
        "    speeds = []\n",
        "    distances = []\n",
        "        \n",
        "        # Do action on env\n",
        "    while not done:\n",
        "        o += 1\n",
        "        action = agent.choose_action(state)\n",
        "        state_, reward, done, info = subwaysystem.step(action)\n",
        "        score += reward\n",
        "        \n",
        "        # Save things on the way\n",
        "        rewards.append(reward)\n",
        "        speeds.append([train.speed for train,_,_ in subwaysystem.trains])\n",
        "        distances.append(pdist([train.position for train,_,_ in subwaysystem.trains]))\n",
        "        \n",
        "        agent.remeber(state, action, reward, state_, done)\n",
        "        \n",
        "        #if np.random.random() > 0.2:\n",
        "        agent.learn()\n",
        "        # Save all actions and hendelser\n",
        "        #actions.append(action)\n",
        "        #states.append(state)\n",
        "        #states_.append(state_)\n",
        "        #rewards.append(reward)\n",
        "        #dones.append(done)\n",
        "\n",
        "        subwaysystem.save_image(o)\n",
        "\n",
        "        state = state_\n",
        "        \n",
        "        #if o>100:\n",
        "        #    break\n",
        "        if o%100 == 0:\n",
        "            print(o, [train.speed for train,_,_ in subwaysystem.trains])\n",
        "            \n",
        "        if o>max_interations:\n",
        "            done = True\n",
        "            print(\"stopper pga maxinteretatoion\")\n",
        "            \n",
        "    \n",
        "            \n",
        "        \n",
        "\n",
        "        # == Learn from action ==\n",
        "        #agent.discount_reward()\n",
        "        # agent.learn(tape)\n",
        "        \n",
        "        #r_history.append(score)\n",
        "        \n",
        "\n",
        "distances = np.array(distances)\n",
        "speeds = np.array(speeds)\n"
      ]
    },
    {
      "cell_type": "code",
      "execution_count": 40,
      "id": "39e277e9",
      "metadata": {
        "id": "39e277e9",
        "outputId": "0d941865-7970-4fcc-fa6b-da32e9bee874",
        "colab": {
          "base_uri": "https://localhost:8080/",
          "height": 284
        }
      },
      "outputs": [
        {
          "output_type": "execute_result",
          "data": {
            "text/plain": [
              "[<matplotlib.lines.Line2D at 0x7f6e707ee790>]"
            ]
          },
          "metadata": {},
          "execution_count": 40
        },
        {
          "output_type": "display_data",
          "data": {
            "image/png": "[encoded data removed]",
            "text/plain": [
              "<Figure size 432x288 with 1 Axes>"
            ]
          },
          "metadata": {
            "needs_background": "light"
          }
        }
      ],
      "source": [
        "plt.plot(distances)"
      ]
    },
    {
      "cell_type": "code",
      "source": [
        "plt.plot(speeds)"
      ],
      "metadata": {
        "id": "T7qEaXC563Xv",
        "outputId": "956ec140-db4a-4f89-8425-2ae95fdd2eb5",
        "colab": {
          "base_uri": "https://localhost:8080/",
          "height": 301
        }
      },
      "id": "T7qEaXC563Xv",
      "execution_count": 41,
      "outputs": [
        {
          "output_type": "execute_result",
          "data": {
            "text/plain": [
              "[<matplotlib.lines.Line2D at 0x7f6e707ef090>,\n",
              " <matplotlib.lines.Line2D at 0x7f6e707ef5d0>]"
            ]
          },
          "metadata": {},
          "execution_count": 41
        },
        {
          "output_type": "display_data",
          "data": {
            "image/png": "[encoded data removed]",
            "text/plain": [
              "<Figure size 432x288 with 1 Axes>"
            ]
          },
          "metadata": {
            "needs_background": "light"
          }
        }
      ]
    },
    {
      "cell_type": "code",
      "source": [
        "!git pull"
      ],
      "metadata": {
        "id": "BZVh0Ya77Aa-",
        "outputId": "fdc56b5a-3b61-45d3-a73d-bf886b2ee878",
        "colab": {
          "base_uri": "https://localhost:8080/"
        }
      },
      "id": "BZVh0Ya77Aa-",
      "execution_count": 2,
      "outputs": [
        {
          "output_type": "stream",
          "name": "stdout",
          "text": [
            "remote: Enumerating objects: 7, done.\u001b[K\n",
            "remote: Counting objects:  14% (1/7)\u001b[K\rremote: Counting objects:  28% (2/7)\u001b[K\rremote: Counting objects:  42% (3/7)\u001b[K\rremote: Counting objects:  57% (4/7)\u001b[K\rremote: Counting objects:  71% (5/7)\u001b[K\rremote: Counting objects:  85% (6/7)\u001b[K\rremote: Counting objects: 100% (7/7)\u001b[K\rremote: Counting objects: 100% (7/7), done.\u001b[K\n",
            "remote: Compressing objects: 100% (1/1)\u001b[K\rremote: Compressing objects: 100% (1/1), done.\u001b[K\n",
            "remote: Total 4 (delta 3), reused 4 (delta 3), pack-reused 0\u001b[K\n",
            "Unpacking objects: 100% (4/4), done.\n",
            "From https://github.com/stianteien/TrainsWithBrains\n",
            "   258d5e7..b4df8db  master     -> origin/master\n",
            "Updating 258d5e7..b4df8db\n",
            "Fast-forward\n",
            " main.py         |  2 \u001b[32m++\u001b[m\n",
            " subwaysystem.py | 36 \u001b[32m+++++++++++++++++++++++++++++++++++\u001b[m\u001b[31m-\u001b[m\n",
            " 2 files changed, 37 insertions(+), 1 deletion(-)\n"
          ]
        }
      ]
    },
    {
      "cell_type": "code",
      "source": [
        ""
      ],
      "metadata": {
        "id": "umDnb-A3nCCp"
      },
      "id": "umDnb-A3nCCp",
      "execution_count": null,
      "outputs": []
    }
  ],
  "metadata": {
    "kernelspec": {
      "display_name": "Python 3",
      "language": "python",
      "name": "python3"
    },
    "language_info": {
      "codemirror_mode": {
        "name": "ipython",
        "version": 3
      },
      "file_extension": ".py",
      "mimetype": "text/x-python",
      "name": "python",
      "nbconvert_exporter": "python",
      "pygments_lexer": "ipython3",
      "version": "3.7.7"
    },
    "colab": {
      "name": "main_notebook.ipynb",
      "provenance": []
    }
  },
  "nbformat": 4,
  "nbformat_minor": 5
}