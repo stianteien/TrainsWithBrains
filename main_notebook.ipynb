{
  "cells": [
    {
      "cell_type": "markdown",
      "id": "991c10d6",
      "metadata": {
        "id": "991c10d6"
      },
      "source": [
        "# Main notebook\n",
        "\n",
        "Install all requirements and connect to drive"
      ]
    },
    {
      "cell_type": "code",
      "execution_count": 1,
      "id": "7229c53a",
      "metadata": {
        "id": "7229c53a",
        "outputId": "f1d22a6f-15b3-404f-c3de-7b2788fb6c44",
        "colab": {
          "base_uri": "https://localhost:8080/"
        }
      },
      "outputs": [
        {
          "output_type": "stream",
          "name": "stdout",
          "text": [
            "Collecting pygame\n",
            "  Downloading pygame-2.1.2-cp37-cp37m-manylinux_2_17_x86_64.manylinux2014_x86_64.whl (21.8 MB)\n",
            "\u001b[K     |████████████████████████████████| 21.8 MB 1.1 MB/s \n",
            "\u001b[?25hInstalling collected packages: pygame\n",
            "Successfully installed pygame-2.1.2\n",
            "Mounted at /content/gdrive\n",
            "/content/gdrive/MyDrive/TrainsWithBrains\n"
          ]
        }
      ],
      "source": [
        "!pip install pygame\n",
        "from google.colab import drive\n",
        "drive.mount('/content/gdrive')\n",
        "%cd gdrive/MyDrive/TrainsWithBrains"
      ]
    },
    {
      "cell_type": "markdown",
      "id": "2c9b1733",
      "metadata": {
        "id": "2c9b1733"
      },
      "source": [
        "### Set up the evn"
      ]
    },
    {
      "cell_type": "code",
      "execution_count": 5,
      "id": "f17c6b1d",
      "metadata": {
        "id": "f17c6b1d"
      },
      "outputs": [],
      "source": [
        "from train import Train\n",
        "from railway import Railway\n",
        "from subwaysystem import SubwaySystem\n",
        "import pandas as pd\n",
        "import numpy as np\n",
        "import random\n",
        "from ddqp import DDQNAgent\n",
        "import tensorflow as tf\n",
        "from scipy.spatial.distance import pdist, squareform\n",
        "import matplotlib.pyplot as plt\n",
        "\n",
        "linje1coords = pd.read_csv(\"lines/linje1.csv\", index_col=0)\n",
        "linje2coords = pd.read_csv(\"lines/linje2.csv\", index_col=0)\n",
        "linje4coords = pd.read_csv(\"lines/linje4.csv\", index_col=0)\n",
        "linje5coords = pd.read_csv(\"lines/linje5.csv\", index_col=0)\n",
        "linje6coords = pd.read_csv(\"lines/linje6.csv\", index_col=0)\n",
        "\n",
        "linje2stops = pd.concat([linje2coords[linje2coords.index==4] ,linje2coords.sample()])\n",
        "linje2stops[[\"stop_time\", \"active\"]] = [[500,False],[300, False]]\n",
        "\n",
        "linje4stops = pd.concat([linje4coords.sample()])\n",
        "linje4stops[[\"stop_time\", \"active\"]] = [[500,False]]\n",
        "\n",
        "\n",
        "subwaysystem = SubwaySystem()\n",
        "\n",
        "# Add all lines\n",
        "linje1 = Railway(linje1coords)\n",
        "linje2 = Railway(linje2coords, linje2stops)\n",
        "linje4 = Railway(linje4coords, linje4stops, train_loop_strategy=\"line\")\n",
        "linje5 = Railway(linje5coords, train_loop_strategy=\"line\")\n",
        "linje6 = Railway(linje6coords, train_loop_strategy=\"line\")\n",
        "\n",
        "# Add all trains\n",
        "linje1.add_train(Train())\n",
        "linje2.add_train(Train(direction = 1, max_speed = 150))\n",
        "linje2.add_train(Train(direction = -1))\n",
        "linje4.add_train(Train())\n",
        "linje5.add_train(Train())\n",
        "linje6.add_train(Train())\n",
        "\n",
        "\n",
        "# Add lines inn system\n",
        "#subwaysystem.add_railway(linje1)\n",
        "#subwaysystem.add_railway(linje2)\n",
        "#subwaysystem.add_railway(linje4)\n",
        "subwaysystem.add_railway(linje5)\n",
        "subwaysystem.add_railway(linje6)\n"
      ]
    },
    {
      "cell_type": "markdown",
      "id": "680612d8",
      "metadata": {
        "id": "680612d8"
      },
      "source": [
        "### Reinformant learning"
      ]
    },
    {
      "cell_type": "code",
      "execution_count": 3,
      "id": "6ddc7a44",
      "metadata": {
        "id": "6ddc7a44",
        "outputId": "bff4b988-5b61-45e9-ffc7-ede718e1c99a",
        "colab": {
          "base_uri": "https://localhost:8080/"
        }
      },
      "outputs": [
        {
          "output_type": "stream",
          "name": "stderr",
          "text": [
            "/usr/local/lib/python3.7/dist-packages/keras/optimizer_v2/adam.py:105: UserWarning: The `lr` argument is deprecated, use `learning_rate` instead.\n",
            "  super(Adam, self).__init__(name, **kwargs)\n"
          ]
        },
        {
          "output_type": "stream",
          "name": "stdout",
          "text": [
            "100 [5.9435273063129825, 6.115056559734959]\n",
            "200 [12.148724232591105, 12.287885316484939]\n",
            "300 [18.15957609844654, 18.054573748734043]\n",
            "400 [24.069072577596536, 24.280900285051633]\n",
            "500 [29.90545558493576, 30.475420049318767]\n",
            "600 [35.99170724580715, 36.83688069670156]\n",
            "700 [42.14067818226806, 42.88023109036928]\n",
            "800 [48.13824461488666, 48.83395233811662]\n",
            "900 [54.12150284394276, 54.520826729415084]\n",
            "1000 [60.09939699886369, 60.28858542267956]\n",
            "1100 [66.0298524361748, 66.58688555053648]\n",
            "1200 [72.03020413552265, 72.31955315417969]\n",
            "1300 [78.29891597926759, 78.49999739258652]\n",
            "1400 [83.9612273749989, 84.77700294130625]\n",
            "1500 [89.85178790283037, 91.00286528882647]\n",
            "1600 [95.82029046450711, 96.93723740082794]\n",
            "Kræsj\n"
          ]
        }
      ],
      "source": [
        "#subwaysystem.find_intersections()\n",
        "#subwaysystem.render()\n",
        "#subwaysystem.run_simualation()\n",
        "#subwaysystem.reset()\n",
        "\n",
        "\n",
        "# ========\n",
        "# Reinformant learning!\n",
        "# ========\n",
        "\n",
        "agent = DDQNAgent(alpha=0.005, gamma=0.99, n_actions=2, max_speed=100,\n",
        "                  epsilon=1.0, batch_size=32, input_dims=8)\n",
        "r_history = []\n",
        "\n",
        "n_games = 1\n",
        "done = False\n",
        "max_interations = 3000\n",
        "\n",
        "\n",
        "for i in range(n_games):\n",
        "    score = 0\n",
        "    o = 0\n",
        "    state, done = subwaysystem.reset()\n",
        "    \n",
        "    actions = []\n",
        "    states = []\n",
        "    states_ = []\n",
        "    rewards = []\n",
        "    dones = []\n",
        "    speeds = []\n",
        "    distances = []\n",
        "        \n",
        "        # Do action on env\n",
        "    while not done:\n",
        "        o += 1\n",
        "        action = agent.choose_action(state)\n",
        "        state_, reward, done, info = subwaysystem.step(action)\n",
        "        score += reward\n",
        "        \n",
        "        # Save things on the way\n",
        "        rewards.append(reward)\n",
        "        speeds.append([train.speed for train,_,_ in subwaysystem.trains])\n",
        "        distances.append(pdist([train.position for train,_,_ in subwaysystem.trains]))\n",
        "        \n",
        "        agent.remeber(state, action, reward, state_, done)\n",
        "        \n",
        "        #if np.random.random() > 0.2:\n",
        "        agent.learn()\n",
        "        # Save all actions and hendelser\n",
        "        #actions.append(action)\n",
        "        #states.append(state)\n",
        "        #states_.append(state_)\n",
        "        #rewards.append(reward)\n",
        "        #dones.append(done)\n",
        "    \n",
        "        state = state_\n",
        "        \n",
        "        #if o>100:\n",
        "        #    break\n",
        "        if o%100 == 0:\n",
        "            print(o, [train.speed for train,_,_ in subwaysystem.trains])\n",
        "            \n",
        "        if o>max_interations:\n",
        "            done = True\n",
        "            print(\"stopper pga maxinteretatoion\")\n",
        "            \n",
        "    \n",
        "            \n",
        "        \n",
        "\n",
        "        # == Learn from action ==\n",
        "        #agent.discount_reward()\n",
        "        # agent.learn(tape)\n",
        "        \n",
        "        #r_history.append(score)\n",
        "        \n",
        "\n",
        "distances = np.array(distances)\n",
        "speeds = np.array(speeds)\n"
      ]
    },
    {
      "cell_type": "code",
      "execution_count": 6,
      "id": "39e277e9",
      "metadata": {
        "id": "39e277e9",
        "outputId": "a0d380d0-3e01-486f-b5df-184894112bb6",
        "colab": {
          "base_uri": "https://localhost:8080/",
          "height": 282
        }
      },
      "outputs": [
        {
          "output_type": "execute_result",
          "data": {
            "text/plain": [
              "[<matplotlib.lines.Line2D at 0x7ff5759633d0>]"
            ]
          },
          "metadata": {},
          "execution_count": 6
        },
        {
          "output_type": "display_data",
          "data": {
            "image/png": "[encoded data removed]",
            "text/plain": [
              "<Figure size 432x288 with 1 Axes>"
            ]
          },
          "metadata": {
            "needs_background": "light"
          }
        }
      ],
      "source": [
        "plt.plot(distances)"
      ]
    },
    {
      "cell_type": "code",
      "source": [
        "plt.plot(speeds)"
      ],
      "metadata": {
        "id": "T7qEaXC563Xv",
        "outputId": "bf70b853-034a-44e9-fce6-62ab673d3c55",
        "colab": {
          "base_uri": "https://localhost:8080/",
          "height": 300
        }
      },
      "id": "T7qEaXC563Xv",
      "execution_count": 7,
      "outputs": [
        {
          "output_type": "execute_result",
          "data": {
            "text/plain": [
              "[<matplotlib.lines.Line2D at 0x7ff57a482cd0>,\n",
              " <matplotlib.lines.Line2D at 0x7ff57a482890>]"
            ]
          },
          "metadata": {},
          "execution_count": 7
        },
        {
          "output_type": "display_data",
          "data": {
            "image/png": "[encoded data removed]",
            "text/plain": [
              "<Figure size 432x288 with 1 Axes>"
            ]
          },
          "metadata": {
            "needs_background": "light"
          }
        }
      ]
    },
    {
      "cell_type": "code",
      "source": [
        ""
      ],
      "metadata": {
        "id": "BZVh0Ya77Aa-"
      },
      "id": "BZVh0Ya77Aa-",
      "execution_count": null,
      "outputs": []
    }
  ],
  "metadata": {
    "kernelspec": {
      "display_name": "Python 3",
      "language": "python",
      "name": "python3"
    },
    "language_info": {
      "codemirror_mode": {
        "name": "ipython",
        "version": 3
      },
      "file_extension": ".py",
      "mimetype": "text/x-python",
      "name": "python",
      "nbconvert_exporter": "python",
      "pygments_lexer": "ipython3",
      "version": "3.7.7"
    },
    "colab": {
      "name": "main_notebook.ipynb",
      "provenance": []
    }
  },
  "nbformat": 4,
  "nbformat_minor": 5
}