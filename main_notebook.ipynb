{
  "cells": [
    {
      "cell_type": "markdown",
      "id": "991c10d6",
      "metadata": {
        "id": "991c10d6"
      },
      "source": [
        "# Main notebook\n",
        "\n",
        "Install all requirements and connect to drive"
      ]
    },
    {
      "cell_type": "code",
      "execution_count": 1,
      "id": "7229c53a",
      "metadata": {
        "id": "7229c53a",
        "outputId": "7cdb0f16-e53e-428c-9a9c-6e8b619eb104",
        "colab": {
          "base_uri": "https://localhost:8080/"
        }
      },
      "outputs": [
        {
          "output_type": "stream",
          "name": "stdout",
          "text": [
            "Requirement already satisfied: pygame in /usr/local/lib/python3.7/dist-packages (2.1.2)\n",
            "Drive already mounted at /content/gdrive; to attempt to forcibly remount, call drive.mount(\"/content/gdrive\", force_remount=True).\n",
            "/content/gdrive/MyDrive/TrainsWithBrains\n"
          ]
        }
      ],
      "source": [
        "!pip install pygame\n",
        "from google.colab import drive\n",
        "drive.mount('/content/gdrive')\n",
        "%cd gdrive/MyDrive/TrainsWithBrains"
      ]
    },
    {
      "cell_type": "markdown",
      "id": "2c9b1733",
      "metadata": {
        "id": "2c9b1733"
      },
      "source": [
        "### Set up the evn"
      ]
    },
    {
      "cell_type": "code",
      "execution_count": 2,
      "id": "f17c6b1d",
      "metadata": {
        "id": "f17c6b1d",
        "outputId": "391b3b74-4503-4090-cee8-90eb8f18fec8",
        "colab": {
          "base_uri": "https://localhost:8080/"
        }
      },
      "outputs": [
        {
          "output_type": "stream",
          "name": "stdout",
          "text": [
            "pygame 2.1.2 (SDL 2.0.16, Python 3.7.12)\n",
            "Hello from the pygame community. https://www.pygame.org/contribute.html\n"
          ]
        }
      ],
      "source": [
        "from train import Train\n",
        "from railway import Railway\n",
        "from subwaysystem import SubwaySystem\n",
        "import pandas as pd\n",
        "import numpy as np\n",
        "import random\n",
        "from ddqp import DDQNAgent\n",
        "import tensorflow as tf\n",
        "from scipy.spatial.distance import pdist, squareform\n",
        "import matplotlib.pyplot as plt\n",
        "\n",
        "linje1coords = pd.read_csv(\"lines/linje1.csv\", index_col=0)\n",
        "linje2coords = pd.read_csv(\"lines/linje2.csv\", index_col=0)\n",
        "linje4coords = pd.read_csv(\"lines/linje4.csv\", index_col=0)\n",
        "linje5coords = pd.read_csv(\"lines/linje5.csv\", index_col=0)\n",
        "linje6coords = pd.read_csv(\"lines/linje6.csv\", index_col=0)\n",
        "\n",
        "linje2stops = pd.concat([linje2coords[linje2coords.index==4] ,linje2coords.sample()])\n",
        "linje2stops[[\"stop_time\", \"active\"]] = [[500,False],[300, False]]\n",
        "\n",
        "linje4stops = pd.concat([linje4coords.sample()])\n",
        "linje4stops[[\"stop_time\", \"active\"]] = [[500,False]]\n",
        "\n",
        "\n",
        "subwaysystem = SubwaySystem()\n",
        "\n",
        "# Add all lines\n",
        "linje1 = Railway(linje1coords)\n",
        "linje2 = Railway(linje2coords, linje2stops)\n",
        "linje4 = Railway(linje4coords, linje4stops, train_loop_strategy=\"line\")\n",
        "linje5 = Railway(linje5coords, train_loop_strategy=\"loop\")\n",
        "linje6 = Railway(linje6coords, train_loop_strategy=\"loop\")\n",
        "\n",
        "# Add all trains\n",
        "linje1.add_train(Train())\n",
        "linje2.add_train(Train(direction = 1, max_speed = 150))\n",
        "linje2.add_train(Train(direction = -1))\n",
        "linje4.add_train(Train())\n",
        "linje5.add_train(Train())\n",
        "linje6.add_train(Train())\n",
        "\n",
        "\n",
        "# Add lines inn system\n",
        "#subwaysystem.add_railway(linje1)\n",
        "#subwaysystem.add_railway(linje2)\n",
        "#subwaysystem.add_railway(linje4)\n",
        "subwaysystem.add_railway(linje5)\n",
        "subwaysystem.add_railway(linje6)\n"
      ]
    },
    {
      "cell_type": "markdown",
      "id": "680612d8",
      "metadata": {
        "id": "680612d8"
      },
      "source": [
        "### Reinformant learning"
      ]
    },
    {
      "cell_type": "code",
      "execution_count": null,
      "id": "6ddc7a44",
      "metadata": {
        "id": "6ddc7a44",
        "outputId": "e6f47b6c-fbd2-4e7d-e78f-752c19b47abc",
        "colab": {
          "base_uri": "https://localhost:8080/"
        }
      },
      "outputs": [
        {
          "output_type": "stream",
          "name": "stdout",
          "text": [
            "100 [5.929935075605134, 6.055217375523561]\n",
            "200 [12.297306123352318, 11.915213381282628]\n"
          ]
        }
      ],
      "source": [
        "#subwaysystem.find_intersections()\n",
        "#subwaysystem.render()\n",
        "#subwaysystem.run_simualation()\n",
        "#subwaysystem.reset()\n",
        "\n",
        "\n",
        "# ========\n",
        "# Reinformant learning!\n",
        "# ========\n",
        "\n",
        "agent = DDQNAgent(alpha=0.005, gamma=0.99, n_actions=2, max_speed=100,\n",
        "                  epsilon=1.0, batch_size=32, input_dims=8)\n",
        "r_history = []\n",
        "\n",
        "n_games = 2\n",
        "done = False\n",
        "max_interations = 5000\n",
        "\n",
        "\n",
        "for i in range(n_games):\n",
        "    score = 0\n",
        "    o = 0\n",
        "    state, done = subwaysystem.reset()\n",
        "    \n",
        "    actions = []\n",
        "    states = []\n",
        "    states_ = []\n",
        "    rewards = []\n",
        "    dones = []\n",
        "    speeds = []\n",
        "    distances = []\n",
        "        \n",
        "        # Do action on env\n",
        "    while not done:\n",
        "        \n",
        "        action = agent.choose_action(state)\n",
        "\n",
        "\n",
        "        n = 5\n",
        "        for _ in range(n):\n",
        "            o += 1\n",
        "            state_, reward, done, info = subwaysystem.step(action)\n",
        "            score += reward\n",
        "            \n",
        "            # Save things on the way\n",
        "            rewards.append(reward)\n",
        "            speeds.append([train.speed for train,_,_ in subwaysystem.trains])\n",
        "            distances.append(pdist([train.position for train,_,_ in subwaysystem.trains]))\n",
        "            agent.remeber(state, action, reward, state_, done)\n",
        "            \n",
        "            subwaysystem.save_image(o)\n",
        "            state = state_\n",
        "\n",
        "        \n",
        "        agent.learn()\n",
        "\n",
        "\n",
        "        if o%100 == 0:\n",
        "            print(o, [train.speed for train,_,_ in subwaysystem.trains])\n",
        "            \n",
        "        if o>max_interations:\n",
        "            done = True\n",
        "            print(\"stopper pga maxinteretatoion\")\n",
        "            \n",
        "    \n",
        "            \n",
        "        \n",
        "\n",
        "        # == Learn from action ==\n",
        "        #agent.discount_reward()\n",
        "        # agent.learn(tape)\n",
        "        \n",
        "        #r_history.append(score)\n",
        "        \n",
        "\n",
        "distances = np.array(distances)\n",
        "speeds = np.array(speeds)\n"
      ]
    },
    {
      "cell_type": "code",
      "execution_count": 4,
      "id": "39e277e9",
      "metadata": {
        "id": "39e277e9",
        "outputId": "1b027343-17ec-4d3e-f37e-d30c86058747",
        "colab": {
          "base_uri": "https://localhost:8080/",
          "height": 284
        }
      },
      "outputs": [
        {
          "output_type": "execute_result",
          "data": {
            "text/plain": [
              "[<matplotlib.lines.Line2D at 0x7ff265b48290>]"
            ]
          },
          "metadata": {},
          "execution_count": 4
        },
        {
          "output_type": "display_data",
          "data": {
            "image/png": "[encoded data removed]",
            "text/plain": [
              "<Figure size 432x288 with 1 Axes>"
            ]
          },
          "metadata": {
            "needs_background": "light"
          }
        }
      ],
      "source": [
        "plt.plot(distances)"
      ]
    },
    {
      "cell_type": "code",
      "source": [
        "plt.plot(speeds)"
      ],
      "metadata": {
        "id": "T7qEaXC563Xv",
        "outputId": "535a85a9-c851-4877-9fa2-e9a95a38ed3d",
        "colab": {
          "base_uri": "https://localhost:8080/",
          "height": 303
        }
      },
      "id": "T7qEaXC563Xv",
      "execution_count": 5,
      "outputs": [
        {
          "output_type": "execute_result",
          "data": {
            "text/plain": [
              "[<matplotlib.lines.Line2D at 0x7ff2674b5050>,\n",
              " <matplotlib.lines.Line2D at 0x7ff2672bfd50>]"
            ]
          },
          "metadata": {},
          "execution_count": 5
        },
        {
          "output_type": "display_data",
          "data": {
            "image/png": "[encoded data removed]",
            "text/plain": [
              "<Figure size 432x288 with 1 Axes>"
            ]
          },
          "metadata": {
            "needs_background": "light"
          }
        }
      ]
    },
    {
      "cell_type": "code",
      "source": [
        "plt.plot(rewards)"
      ],
      "metadata": {
        "id": "umDnb-A3nCCp",
        "outputId": "76434359-2c39-49c9-8ad5-d4d4d22ea90b",
        "colab": {
          "base_uri": "https://localhost:8080/",
          "height": 284
        }
      },
      "id": "umDnb-A3nCCp",
      "execution_count": 6,
      "outputs": [
        {
          "output_type": "execute_result",
          "data": {
            "text/plain": [
              "[<matplotlib.lines.Line2D at 0x7ff267637950>]"
            ]
          },
          "metadata": {},
          "execution_count": 6
        },
        {
          "output_type": "display_data",
          "data": {
            "image/png": "[encoded data removed]",
            "text/plain": [
              "<Figure size 432x288 with 1 Axes>"
            ]
          },
          "metadata": {
            "needs_background": "light"
          }
        }
      ]
    },
    {
      "cell_type": "code",
      "source": [
        "!git pull"
      ],
      "metadata": {
        "id": "BZVh0Ya77Aa-",
        "outputId": "041434ce-bd36-46f8-ec0e-9327c395b825",
        "colab": {
          "base_uri": "https://localhost:8080/"
        }
      },
      "id": "BZVh0Ya77Aa-",
      "execution_count": 7,
      "outputs": [
        {
          "output_type": "stream",
          "name": "stdout",
          "text": [
            "remote: Enumerating objects: 5, done.\u001b[K\n",
            "remote: Counting objects:  20% (1/5)\u001b[K\rremote: Counting objects:  40% (2/5)\u001b[K\rremote: Counting objects:  60% (3/5)\u001b[K\rremote: Counting objects:  80% (4/5)\u001b[K\rremote: Counting objects: 100% (5/5)\u001b[K\rremote: Counting objects: 100% (5/5), done.\u001b[K\n",
            "remote: Compressing objects: 100% (1/1)\u001b[K\rremote: Compressing objects: 100% (1/1), done.\u001b[K\n",
            "remote: Total 3 (delta 2), reused 3 (delta 2), pack-reused 0\u001b[K\n",
            "Unpacking objects:  33% (1/3)   \rUnpacking objects:  66% (2/3)   \rUnpacking objects: 100% (3/3)   \rUnpacking objects: 100% (3/3), done.\n",
            "From https://github.com/stianteien/TrainsWithBrains\n",
            "   ed822c9..f8cdaf4  master     -> origin/master\n",
            "Updating ed822c9..f8cdaf4\n",
            "Fast-forward\n",
            " subwaysystem.py | 2 \u001b[32m+\u001b[m\u001b[31m-\u001b[m\n",
            " 1 file changed, 1 insertion(+), 1 deletion(-)\n"
          ]
        }
      ]
    },
    {
      "cell_type": "code",
      "source": [
        "plt.imshow(subwaysystem.frame.T)"
      ],
      "metadata": {
        "id": "RrMmHbRl9_4b",
        "outputId": "237bdd47-f6f4-4de0-e539-c1a0d36f2410",
        "colab": {
          "base_uri": "https://localhost:8080/",
          "height": 287
        }
      },
      "id": "RrMmHbRl9_4b",
      "execution_count": 4,
      "outputs": [
        {
          "output_type": "execute_result",
          "data": {
            "text/plain": [
              "<matplotlib.image.AxesImage at 0x7f1bb6017c50>"
            ]
          },
          "metadata": {},
          "execution_count": 4
        },
        {
          "output_type": "display_data",
          "data": {
            "image/png": "[encoded data removed]",
            "text/plain": [
              "<Figure size 432x288 with 1 Axes>"
            ]
          },
          "metadata": {
            "needs_background": "light"
          }
        }
      ]
    },
    {
      "cell_type": "code",
      "source": [
        ""
      ],
      "metadata": {
        "id": "eO-dwB-3-bdR",
        "outputId": "1c5a6ad9-c35c-4bfb-cb15-95d760c64d6d",
        "colab": {
          "base_uri": "https://localhost:8080/"
        }
      },
      "id": "eO-dwB-3-bdR",
      "execution_count": 10,
      "outputs": [
        {
          "output_type": "stream",
          "name": "stdout",
          "text": [
            "/bin/bash: ffpmeg: command not found\n"
          ]
        }
      ]
    },
    {
      "cell_type": "code",
      "source": [
        ""
      ],
      "metadata": {
        "id": "xKHuSe77AyUl"
      },
      "id": "xKHuSe77AyUl",
      "execution_count": null,
      "outputs": []
    }
  ],
  "metadata": {
    "kernelspec": {
      "display_name": "Python 3",
      "language": "python",
      "name": "python3"
    },
    "language_info": {
      "codemirror_mode": {
        "name": "ipython",
        "version": 3
      },
      "file_extension": ".py",
      "mimetype": "text/x-python",
      "name": "python",
      "nbconvert_exporter": "python",
      "pygments_lexer": "ipython3",
      "version": "3.7.7"
    },
    "colab": {
      "name": "main_notebook.ipynb",
      "provenance": []
    }
  },
  "nbformat": 4,
  "nbformat_minor": 5
}