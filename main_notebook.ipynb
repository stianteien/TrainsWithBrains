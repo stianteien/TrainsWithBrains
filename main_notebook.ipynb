{
 "cells": [
  {
   "cell_type": "markdown",
   "id": "991c10d6",
   "metadata": {},
   "source": [
    "# Main notebook\n",
    "\n",
    "Install all requirements and connect to drive"
   ]
  },
  {
   "cell_type": "code",
   "execution_count": null,
   "id": "7229c53a",
   "metadata": {},
   "outputs": [],
   "source": [
    "!pip install pygame\n",
    "from google.colab import drive\n",
    "drive.mount('/content/gdrive')\n",
    "%cd gdrive/MyDrive/TrainsWithBrains"
   ]
  },
  {
   "cell_type": "markdown",
   "id": "2c9b1733",
   "metadata": {},
   "source": [
    "### Set up the evn"
   ]
  },
  {
   "cell_type": "code",
   "execution_count": 1,
   "id": "f17c6b1d",
   "metadata": {},
   "outputs": [
    {
     "name": "stdout",
     "output_type": "stream",
     "text": [
      "pygame 2.1.0 (SDL 2.0.16, Python 3.7.7)\n",
      "Hello from the pygame community. https://www.pygame.org/contribute.html\n"
     ]
    }
   ],
   "source": [
    "\n",
    "from train import Train\n",
    "from railway import Railway\n",
    "from subwaysystem import SubwaySystem\n",
    "import pandas as pd\n",
    "import numpy as np\n",
    "import random\n",
    "from ddqp import DDQNAgent\n",
    "import tensorflow as tf\n",
    "from scipy.spatial.distance import pdist, squareform\n",
    "\n",
    "linje1coords = pd.read_csv(\"lines/linje1.csv\", index_col=0)\n",
    "linje2coords = pd.read_csv(\"lines/linje2.csv\", index_col=0)\n",
    "linje4coords = pd.read_csv(\"lines/linje4.csv\", index_col=0)\n",
    "linje5coords = pd.read_csv(\"lines/linje5.csv\", index_col=0)\n",
    "linje6coords = pd.read_csv(\"lines/linje6.csv\", index_col=0)\n",
    "\n",
    "linje2stops = pd.concat([linje2coords[linje2coords.index==4] ,linje2coords.sample()])\n",
    "linje2stops[[\"stop_time\", \"active\"]] = [[500,False],[300, False]]\n",
    "\n",
    "linje4stops = pd.concat([linje4coords.sample()])\n",
    "linje4stops[[\"stop_time\", \"active\"]] = [[500,False]]\n",
    "\n",
    "\n",
    "subwaysystem = SubwaySystem()\n",
    "\n",
    "# Add all lines\n",
    "linje1 = Railway(linje1coords)\n",
    "linje2 = Railway(linje2coords, linje2stops)\n",
    "linje4 = Railway(linje4coords, linje4stops, train_loop_strategy=\"line\")\n",
    "linje5 = Railway(linje5coords, train_loop_strategy=\"line\")\n",
    "linje6 = Railway(linje6coords, train_loop_strategy=\"line\")\n",
    "\n",
    "# Add all trains\n",
    "linje1.add_train(Train())\n",
    "linje2.add_train(Train(direction = 1, max_speed = 150))\n",
    "linje2.add_train(Train(direction = -1))\n",
    "linje4.add_train(Train())\n",
    "linje5.add_train(Train())\n",
    "linje6.add_train(Train())\n",
    "\n",
    "\n",
    "# Add lines inn system\n",
    "#subwaysystem.add_railway(linje1)\n",
    "#subwaysystem.add_railway(linje2)\n",
    "#subwaysystem.add_railway(linje4)\n",
    "subwaysystem.add_railway(linje5)\n",
    "subwaysystem.add_railway(linje6)\n"
   ]
  },
  {
   "cell_type": "markdown",
   "id": "680612d8",
   "metadata": {},
   "source": [
    "### Reinformant learning"
   ]
  },
  {
   "cell_type": "code",
   "execution_count": 2,
   "id": "6ddc7a44",
   "metadata": {},
   "outputs": [
    {
     "name": "stdout",
     "output_type": "stream",
     "text": [
      "100 [6.074891123729534, 5.967653362190391]\n",
      "200 [12.134611802950003, 12.025005358969537]\n",
      "stopper pga maxinteretatoion\n"
     ]
    }
   ],
   "source": [
    "#subwaysystem.find_intersections()\n",
    "#subwaysystem.render()\n",
    "#subwaysystem.run_simualation()\n",
    "#subwaysystem.reset()\n",
    "\n",
    "\n",
    "# ========\n",
    "# Reinformant learning!\n",
    "# ========\n",
    "\n",
    "agent = DDQNAgent(alpha=0.005, gamma=0.99, n_actions=2, max_speed=100,\n",
    "                  epsilon=1.0, batch_size=32, input_dims=8)\n",
    "r_history = []\n",
    "\n",
    "n_games = 1\n",
    "done = False\n",
    "max_interations = 200\n",
    "\n",
    "\n",
    "for i in range(n_games):\n",
    "    score = 0\n",
    "    o = 0\n",
    "    state, done = subwaysystem.reset()\n",
    "    \n",
    "    actions = []\n",
    "    states = []\n",
    "    states_ = []\n",
    "    rewards = []\n",
    "    dones = []\n",
    "    speeds = []\n",
    "    distances = []\n",
    "        \n",
    "        # Do action on env\n",
    "    while not done:\n",
    "        o += 1\n",
    "        action = agent.choose_action(state)\n",
    "        state_, reward, done, info = subwaysystem.step(action)\n",
    "        score += reward\n",
    "        \n",
    "        # Save things on the way\n",
    "        rewards.append(reward)\n",
    "        speeds.append([train.speed for train,_,_ in subwaysystem.trains])\n",
    "        distances.append(pdist([train.position for train,_,_ in subwaysystem.trains]))\n",
    "        \n",
    "        agent.remeber(state, action, reward, state_, done)\n",
    "        \n",
    "        #if np.random.random() > 0.2:\n",
    "        agent.learn()\n",
    "        # Save all actions and hendelser\n",
    "        #actions.append(action)\n",
    "        #states.append(state)\n",
    "        #states_.append(state_)\n",
    "        #rewards.append(reward)\n",
    "        #dones.append(done)\n",
    "    \n",
    "        state = state_\n",
    "        \n",
    "        #if o>100:\n",
    "        #    break\n",
    "        if o%100 == 0:\n",
    "            print(o, [train.speed for train,_,_ in subwaysystem.trains])\n",
    "            \n",
    "        if o>max_interations:\n",
    "            done = True\n",
    "            print(\"stopper pga maxinteretatoion\")\n",
    "            \n",
    "    \n",
    "            \n",
    "        \n",
    "\n",
    "        # == Learn from action ==\n",
    "        #agent.discount_reward()\n",
    "        # agent.learn(tape)\n",
    "        \n",
    "        #r_history.append(score)\n",
    "        \n",
    "\n",
    "distances = np.array(distances)\n",
    "speeds = np.array(speeds)\n"
   ]
  },
  {
   "cell_type": "code",
   "execution_count": null,
   "id": "39e277e9",
   "metadata": {},
   "outputs": [],
   "source": []
  }
 ],
 "metadata": {
  "kernelspec": {
   "display_name": "Python 3",
   "language": "python",
   "name": "python3"
  },
  "language_info": {
   "codemirror_mode": {
    "name": "ipython",
    "version": 3
   },
   "file_extension": ".py",
   "mimetype": "text/x-python",
   "name": "python",
   "nbconvert_exporter": "python",
   "pygments_lexer": "ipython3",
   "version": "3.7.7"
  }
 },
 "nbformat": 4,
 "nbformat_minor": 5
}
